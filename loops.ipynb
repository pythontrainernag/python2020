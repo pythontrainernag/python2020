{
 "cells": [
  {
   "cell_type": "code",
   "execution_count": 1,
   "metadata": {},
   "outputs": [
    {
     "name": "stdout",
     "output_type": "stream",
     "text": [
      "python\n",
      "Hello\n",
      "python\n",
      "Hello\n",
      "python\n",
      "Hello\n",
      "python\n",
      "Hello\n",
      "python\n",
      "Hello\n"
     ]
    }
   ],
   "source": [
    "print(\"python\")\n",
    "print(\"Hello\")\n",
    "print(\"python\")\n",
    "print(\"Hello\")\n",
    "print(\"python\")\n",
    "print(\"Hello\")\n",
    "print(\"python\")\n",
    "print(\"Hello\")\n",
    "print(\"python\")\n",
    "print(\"Hello\")"
   ]
  },
  {
   "cell_type": "raw",
   "metadata": {},
   "source": [
    "when to go for loopp, below points has to be considered properly\n",
    "1. when/where to start the loop\n",
    "2. block of statements/lines to be repeated\n",
    "3. when to end the loop"
   ]
  },
  {
   "cell_type": "raw",
   "metadata": {},
   "source": [
    "we can use either while loop or for loop in python.\n",
    "we will start with while loop"
   ]
  },
  {
   "cell_type": "raw",
   "metadata": {},
   "source": [
    "while <condition>:\n",
    "    st1\n",
    "    st2\n",
    "    |\n",
    "    |\n",
    "    |\n",
    "    stn"
   ]
  },
  {
   "cell_type": "code",
   "execution_count": 2,
   "metadata": {},
   "outputs": [
    {
     "name": "stdout",
     "output_type": "stream",
     "text": [
      "python\n",
      "hello\n",
      "\n",
      "\n",
      "python\n",
      "hello\n",
      "\n",
      "\n",
      "python\n",
      "hello\n",
      "\n",
      "\n",
      "python\n",
      "hello\n",
      "\n",
      "\n",
      "python\n",
      "hello\n",
      "\n",
      "\n"
     ]
    }
   ],
   "source": [
    "i = 1\n",
    "while i <= 5:\n",
    "    print(\"python\")\n",
    "    print(\"hello\")\n",
    "    print(\"\\n\")\n",
    "    i += 1 # i = i+1"
   ]
  },
  {
   "cell_type": "code",
   "execution_count": 3,
   "metadata": {},
   "outputs": [
    {
     "name": "stdout",
     "output_type": "stream",
     "text": [
      "enter number of iterations 3\n",
      "python\n",
      "hello\n",
      "\n",
      "\n",
      "python\n",
      "hello\n",
      "\n",
      "\n",
      "python\n",
      "hello\n",
      "\n",
      "\n"
     ]
    }
   ],
   "source": [
    "i = 1\n",
    "n = int(input(\"enter number of iterations \"))\n",
    "while i <= n:\n",
    "    print(\"python\")\n",
    "    print(\"hello\")\n",
    "    print(\"\\n\")\n",
    "    i += 1 # i = i+1"
   ]
  },
  {
   "cell_type": "code",
   "execution_count": 4,
   "metadata": {},
   "outputs": [
    {
     "name": "stdout",
     "output_type": "stream",
     "text": [
      "enter number of iterations 3\n",
      "1 3\n",
      "python\n",
      "hello\n",
      "\n",
      "\n",
      "1 3\n",
      "python\n",
      "hello\n",
      "\n",
      "\n",
      "1 3\n",
      "python\n",
      "hello\n",
      "\n",
      "\n",
      "1 3\n",
      "python\n",
      "hello\n",
      "\n",
      "\n",
      "1 3\n",
      "python\n",
      "hello\n",
      "\n",
      "\n",
      "1 3\n",
      "python\n",
      "hello\n",
      "\n",
      "\n",
      "1 3\n",
      "python\n",
      "hello\n",
      "\n",
      "\n",
      "1 3\n",
      "python\n",
      "hello\n",
      "\n",
      "\n",
      "1 3\n",
      "python\n",
      "hello\n",
      "\n",
      "\n",
      "1 3\n",
      "python\n",
      "hello\n",
      "\n",
      "\n",
      "1 3\n",
      "python\n",
      "hello\n",
      "\n",
      "\n"
     ]
    },
    {
     "ename": "KeyboardInterrupt",
     "evalue": "",
     "output_type": "error",
     "traceback": [
      "\u001b[1;31m---------------------------------------------------------------------------\u001b[0m",
      "\u001b[1;31mKeyboardInterrupt\u001b[0m                         Traceback (most recent call last)",
      "\u001b[1;32m<ipython-input-4-f0f81afe804a>\u001b[0m in \u001b[0;36m<module>\u001b[1;34m\u001b[0m\n\u001b[0;32m      7\u001b[0m     \u001b[0mprint\u001b[0m\u001b[1;33m(\u001b[0m\u001b[1;34m\"hello\"\u001b[0m\u001b[1;33m)\u001b[0m\u001b[1;33m\u001b[0m\u001b[1;33m\u001b[0m\u001b[0m\n\u001b[0;32m      8\u001b[0m     \u001b[0mprint\u001b[0m\u001b[1;33m(\u001b[0m\u001b[1;34m\"\\n\"\u001b[0m\u001b[1;33m)\u001b[0m\u001b[1;33m\u001b[0m\u001b[1;33m\u001b[0m\u001b[0m\n\u001b[1;32m----> 9\u001b[1;33m     \u001b[0msleep\u001b[0m\u001b[1;33m(\u001b[0m\u001b[1;36m2\u001b[0m\u001b[1;33m)\u001b[0m\u001b[1;33m\u001b[0m\u001b[1;33m\u001b[0m\u001b[0m\n\u001b[0m",
      "\u001b[1;31mKeyboardInterrupt\u001b[0m: "
     ]
    }
   ],
   "source": [
    "from time import sleep\n",
    "i = 1\n",
    "n = int(input(\"enter number of iterations \"))\n",
    "while i <= n:\n",
    "    print(i, n)\n",
    "    print(\"python\")\n",
    "    print(\"hello\")\n",
    "    print(\"\\n\")\n",
    "    sleep(2)"
   ]
  },
  {
   "cell_type": "code",
   "execution_count": 5,
   "metadata": {},
   "outputs": [
    {
     "name": "stdout",
     "output_type": "stream",
     "text": [
      "enter number of iterations 3\n",
      "1 3\n",
      "python\n",
      "hello\n",
      "\n",
      "\n",
      "2 3\n",
      "python\n",
      "hello\n",
      "\n",
      "\n",
      "3 3\n",
      "python\n",
      "hello\n",
      "\n",
      "\n"
     ]
    }
   ],
   "source": [
    "from time import sleep\n",
    "i = 1\n",
    "n = int(input(\"enter number of iterations \"))\n",
    "while i <= n:\n",
    "    print(i, n)\n",
    "    print(\"python\")\n",
    "    print(\"hello\")\n",
    "    print(\"\\n\")\n",
    "    sleep(2)\n",
    "    i = i+1"
   ]
  },
  {
   "cell_type": "code",
   "execution_count": 6,
   "metadata": {},
   "outputs": [],
   "source": [
    "# I have to print all numbers which are multiples of 3 and 5 between 100 and 200\n",
    "# 105 ---> 3,5 --->\n",
    "# 108 ---> 3"
   ]
  },
  {
   "cell_type": "code",
   "execution_count": 7,
   "metadata": {},
   "outputs": [
    {
     "name": "stdout",
     "output_type": "stream",
     "text": [
      "105\n",
      "120\n",
      "135\n",
      "150\n",
      "165\n",
      "180\n",
      "195\n"
     ]
    }
   ],
   "source": [
    "i = 101\n",
    "while i < 200:\n",
    "    if i%3 == 0 and i%5 == 0:\n",
    "        print(i)\n",
    "    i += 1"
   ]
  },
  {
   "cell_type": "code",
   "execution_count": 8,
   "metadata": {},
   "outputs": [
    {
     "name": "stdout",
     "output_type": "stream",
     "text": [
      "105\n",
      "120\n",
      "135\n",
      "150\n",
      "165\n",
      "180\n",
      "195\n",
      "done\n"
     ]
    }
   ],
   "source": [
    "i = 101\n",
    "while i < 200:\n",
    "    if i%3 == 0 and i%5 == 0:\n",
    "        print(i)\n",
    "    i += 1\n",
    "print(\"done\")"
   ]
  },
  {
   "cell_type": "markdown",
   "metadata": {},
   "source": [
    "# prime number"
   ]
  },
  {
   "cell_type": "raw",
   "metadata": {},
   "source": [
    "21 ----> 1, 3, 7, 21\n",
    "19 ----> 1, 19(prime)\n",
    "17 ----> 1, 17(prime)\n",
    "15 ----> 1, 3, 5, 15\n",
    "121 ----> 1, 11, 121"
   ]
  },
  {
   "cell_type": "raw",
   "metadata": {},
   "source": [
    "n\n",
    "1. is it divisible with 1 or not.\n",
    "2. is it divisible with 2 or not\n",
    "3. is it divisible with 3 or not\n",
    "|\n",
    "|\n",
    "|\n",
    "n. is it divisible n or not.\n",
    "finally I have how many times(count) does it got divisible "
   ]
  },
  {
   "cell_type": "raw",
   "metadata": {},
   "source": [
    "By observing the above steps, we can see that is it divisible action repeats\n",
    "Also Is it divisible or not action is a condition. If condition satisfies I need to increase the count to get it how many times it divisible"
   ]
  },
  {
   "cell_type": "code",
   "execution_count": 10,
   "metadata": {},
   "outputs": [
    {
     "name": "stdout",
     "output_type": "stream",
     "text": [
      "enter a number to check prime 25\n",
      "you have entered non prime\n"
     ]
    }
   ],
   "source": [
    "i = 1\n",
    "n = int(input(\"enter a number to check prime \"))\n",
    "count = 0\n",
    "while i<=n:\n",
    "    if n%i == 0:\n",
    "        count += 1\n",
    "    i += 1\n",
    "if count == 2:\n",
    "    print(\"you have entered prime number\")\n",
    "else:\n",
    "    print(\"you have entered non prime\")"
   ]
  },
  {
   "cell_type": "code",
   "execution_count": 11,
   "metadata": {},
   "outputs": [
    {
     "name": "stdout",
     "output_type": "stream",
     "text": [
      "enter a number to check prime 27\n",
      "you have entered non prime\n"
     ]
    }
   ],
   "source": [
    "i = 1\n",
    "n = int(input(\"enter a number to check prime \"))\n",
    "count = 0\n",
    "while i<=n:\n",
    "    if n%i == 0:\n",
    "        count += 1\n",
    "    i += 1\n",
    "if count == 2:\n",
    "    print(\"you have entered prime number\")\n",
    "else:\n",
    "    print(\"you have entered non prime\")"
   ]
  },
  {
   "cell_type": "code",
   "execution_count": 12,
   "metadata": {},
   "outputs": [
    {
     "name": "stdout",
     "output_type": "stream",
     "text": [
      "enter a number to check prime 29\n",
      "you have entered prime number\n"
     ]
    }
   ],
   "source": [
    "i = 1\n",
    "n = int(input(\"enter a number to check prime \"))\n",
    "count = 0\n",
    "while i<=n: \n",
    "    if n%i == 0:\n",
    "        count += 1\n",
    "    i += 1\n",
    "if count == 2:\n",
    "    print(\"you have entered prime number\")\n",
    "else:\n",
    "    print(\"you have entered non prime\")"
   ]
  },
  {
   "cell_type": "code",
   "execution_count": 14,
   "metadata": {},
   "outputs": [
    {
     "name": "stdout",
     "output_type": "stream",
     "text": [
      "enter a number to check prime 5\n",
      "you have entered prime number\n"
     ]
    }
   ],
   "source": [
    "i = 1\n",
    "n = int(input(\"enter a number to check prime \")) # let's n = 5\n",
    "count = 0\n",
    "while i<=n: # i=1(1<=5) --> T, i=2(2<=5) --> T, 3<=5, 4<=5, 5<=5, 6<=5\n",
    "    \n",
    "    if n%i == 0: # 5%1==0 ---> T, 5%2(1)==0 ---> F, 5%3 -->F, 5%4 ---> F, 5%5 --> T\n",
    "        \n",
    "        count += 1 # i=1, count=1, count=2\n",
    "        \n",
    "    i += 1 # 2, 3,4, 5, 6\n",
    "    \n",
    "if count == 2:\n",
    "    print(\"you have entered prime number\")\n",
    "else:\n",
    "    print(\"you have entered non prime\")"
   ]
  },
  {
   "cell_type": "code",
   "execution_count": 15,
   "metadata": {},
   "outputs": [
    {
     "name": "stdout",
     "output_type": "stream",
     "text": [
      "enter a number to check prime 4\n",
      "you have entered non prime\n"
     ]
    }
   ],
   "source": [
    "i = 1\n",
    "n = int(input(\"enter a number to check prime \")) # let's n = 4\n",
    "count = 0\n",
    "while i<=n: # i=1(1<=4) --> T, 2<=4---> T, 3<=4 --> T 4<=4 -->T, 5<=4 --F\n",
    "    \n",
    "    if n%i == 0: # 4%1==0 ---> T, 4%2 == 0 ---> T, 4%3(1) == 0 --> F, 4%4 ---> T\n",
    "        \n",
    "        count += 1 # i=1, count=1, i=2--> count=2, i=4 --> count =3\n",
    "        \n",
    "    i += 1 # 2,3,4, 5\n",
    "    \n",
    "if count == 2:\n",
    "    print(\"you have entered prime number\")\n",
    "else:\n",
    "    print(\"you have entered non prime\")"
   ]
  },
  {
   "cell_type": "code",
   "execution_count": 16,
   "metadata": {},
   "outputs": [
    {
     "name": "stdout",
     "output_type": "stream",
     "text": [
      "enter a number to check prime 5\n",
      "you have entered prime number\n"
     ]
    }
   ],
   "source": [
    "i = 2\n",
    "n = int(input(\"enter a number to check prime \"))\n",
    "count = 0\n",
    "while i<=n: \n",
    "    if n%i == 0:\n",
    "        count += 1\n",
    "    i += 1\n",
    "if count == 1:\n",
    "    print(\"you have entered prime number\")\n",
    "else:\n",
    "    print(\"you have entered non prime\")"
   ]
  },
  {
   "cell_type": "code",
   "execution_count": 18,
   "metadata": {},
   "outputs": [
    {
     "name": "stdout",
     "output_type": "stream",
     "text": [
      "enter a number to check prime 4\n",
      "you have entered non prime\n"
     ]
    }
   ],
   "source": [
    "i = 2\n",
    "n = int(input(\"enter a number to check prime \"))\n",
    "count = 0\n",
    "while i<n: \n",
    "    if n%i == 0:\n",
    "        count += 1\n",
    "    i += 1\n",
    "if count == 0:\n",
    "    print(\"you have entered prime number\")\n",
    "else:\n",
    "    print(\"you have entered non prime\")"
   ]
  },
  {
   "cell_type": "code",
   "execution_count": 19,
   "metadata": {},
   "outputs": [
    {
     "name": "stdout",
     "output_type": "stream",
     "text": [
      "enter a number to check prime 5\n",
      "you have entered prime number\n"
     ]
    }
   ],
   "source": [
    "i = 2\n",
    "n = int(input(\"enter a number to check prime \"))\n",
    "count = 0\n",
    "while i<n: \n",
    "    if n%i == 0:\n",
    "        count += 1\n",
    "    i += 1\n",
    "if count == 0:\n",
    "    print(\"you have entered prime number\")\n",
    "else:\n",
    "    print(\"you have entered non prime\")"
   ]
  },
  {
   "cell_type": "markdown",
   "metadata": {},
   "source": [
    "# break"
   ]
  },
  {
   "cell_type": "raw",
   "metadata": {},
   "source": [
    "whenever break statement is executed, loop will end immediately, (comes out of the loop immediately). irresptive of while condition"
   ]
  },
  {
   "cell_type": "markdown",
   "metadata": {},
   "source": [
    "break is always used with if condition in loop"
   ]
  },
  {
   "cell_type": "code",
   "execution_count": 22,
   "metadata": {},
   "outputs": [
    {
     "name": "stdout",
     "output_type": "stream",
     "text": [
      "5\n",
      "6\n",
      "7\n",
      "8\n",
      "9\n",
      "10\n",
      "11\n",
      "12\n",
      "13\n",
      "14\n",
      "15\n",
      "done\n"
     ]
    }
   ],
   "source": [
    "x = 5\n",
    "while x<=15:\n",
    "    print(x)\n",
    "    x += 1\n",
    "print(\"done\")"
   ]
  },
  {
   "cell_type": "code",
   "execution_count": 23,
   "metadata": {},
   "outputs": [
    {
     "name": "stdout",
     "output_type": "stream",
     "text": [
      "5\n",
      "6\n",
      "7\n",
      "8\n",
      "9\n",
      "10\n",
      "11\n",
      "done\n"
     ]
    }
   ],
   "source": [
    "x = 5\n",
    "while x<=15:\n",
    "    if x == 12:\n",
    "        break\n",
    "    print(x)\n",
    "    x += 1\n",
    "print(\"done\")"
   ]
  },
  {
   "cell_type": "code",
   "execution_count": 24,
   "metadata": {},
   "outputs": [
    {
     "name": "stdout",
     "output_type": "stream",
     "text": [
      "5\n"
     ]
    }
   ],
   "source": [
    "x = 5\n",
    "while x<=15:\n",
    "    print(x)\n",
    "    break\n",
    "    x += 1"
   ]
  },
  {
   "cell_type": "code",
   "execution_count": null,
   "metadata": {},
   "outputs": [],
   "source": []
  }
 ],
 "metadata": {
  "kernelspec": {
   "display_name": "Python 3",
   "language": "python",
   "name": "python3"
  },
  "language_info": {
   "codemirror_mode": {
    "name": "ipython",
    "version": 3
   },
   "file_extension": ".py",
   "mimetype": "text/x-python",
   "name": "python",
   "nbconvert_exporter": "python",
   "pygments_lexer": "ipython3",
   "version": "3.7.4"
  }
 },
 "nbformat": 4,
 "nbformat_minor": 2
}
