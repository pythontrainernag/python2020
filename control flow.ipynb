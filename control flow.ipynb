{
 "cells": [
  {
   "cell_type": "code",
   "execution_count": 1,
   "metadata": {},
   "outputs": [
    {
     "name": "stdout",
     "output_type": "stream",
     "text": [
      "Hello python\n"
     ]
    }
   ],
   "source": [
    "print(\"Hello python\")\n",
    "a = 10\n",
    "b = 20"
   ]
  },
  {
   "cell_type": "code",
   "execution_count": 2,
   "metadata": {},
   "outputs": [
    {
     "name": "stdout",
     "output_type": "stream",
     "text": [
      "10\n"
     ]
    }
   ],
   "source": [
    "print(a)"
   ]
  },
  {
   "cell_type": "code",
   "execution_count": 3,
   "metadata": {},
   "outputs": [
    {
     "name": "stdout",
     "output_type": "stream",
     "text": [
      "20\n"
     ]
    }
   ],
   "source": [
    "print(b)"
   ]
  },
  {
   "cell_type": "markdown",
   "metadata": {},
   "source": [
    "# Condition"
   ]
  },
  {
   "cell_type": "raw",
   "metadata": {},
   "source": [
    "If I use relational operator between any two similiar data types Then I can say it as a condition\n",
    "In case of python, any statement which gives outcome as a boolean is called condition"
   ]
  },
  {
   "cell_type": "raw",
   "metadata": {},
   "source": [
    "Valid conditions:\n",
    "5 > 3\n",
    "True\n",
    "False\n",
    "5 == 3\n",
    "10 -----> If also a valid, because python will convert it into boollean and verifies"
   ]
  },
  {
   "cell_type": "code",
   "execution_count": 4,
   "metadata": {},
   "outputs": [
    {
     "name": "stdout",
     "output_type": "stream",
     "text": [
      "Yes\n"
     ]
    }
   ],
   "source": [
    "if 5>3:\n",
    "    print(\"Yes\")"
   ]
  },
  {
   "cell_type": "code",
   "execution_count": 5,
   "metadata": {},
   "outputs": [],
   "source": [
    "if 5==3:\n",
    "    print(\"Yes\")"
   ]
  },
  {
   "cell_type": "code",
   "execution_count": 6,
   "metadata": {},
   "outputs": [
    {
     "name": "stdout",
     "output_type": "stream",
     "text": [
      "Yes\n"
     ]
    }
   ],
   "source": [
    "if 10:\n",
    "    print(\"Yes\")"
   ]
  },
  {
   "cell_type": "code",
   "execution_count": 7,
   "metadata": {},
   "outputs": [],
   "source": [
    "if 0:\n",
    "    print(\"Yes\")"
   ]
  },
  {
   "cell_type": "markdown",
   "metadata": {},
   "source": [
    "# conditional statement"
   ]
  },
  {
   "cell_type": "raw",
   "metadata": {},
   "source": [
    "Based on condition, I have to execute block of statements.\n",
    "To achieve this, I will be if keyword as well as the condition"
   ]
  },
  {
   "cell_type": "raw",
   "metadata": {},
   "source": [
    "if keyword follows the condition which follows :\n",
    "The next new lines after if with indent space are the lines which executes based on condition"
   ]
  },
  {
   "cell_type": "markdown",
   "metadata": {},
   "source": [
    "# syntax"
   ]
  },
  {
   "cell_type": "raw",
   "metadata": {},
   "source": [
    "if <condition>:\n",
    "    st1\n",
    "    st2\n",
    "    |\n",
    "    |\n",
    "    stn\n",
    "sto"
   ]
  },
  {
   "cell_type": "code",
   "execution_count": 8,
   "metadata": {},
   "outputs": [
    {
     "name": "stdout",
     "output_type": "stream",
     "text": [
      "5 is greater\n",
      "hello python\n",
      "hello class\n"
     ]
    }
   ],
   "source": [
    "if 5>3:\n",
    "    print(\"5 is greater\")\n",
    "    print(\"hello python\")\n",
    "print(\"hello class\")"
   ]
  },
  {
   "cell_type": "code",
   "execution_count": 9,
   "metadata": {},
   "outputs": [
    {
     "name": "stdout",
     "output_type": "stream",
     "text": [
      "hello class\n"
     ]
    }
   ],
   "source": [
    "if 5==3:\n",
    "    print(\"5 is greater\")\n",
    "    print(\"hello python\")\n",
    "print(\"hello class\")"
   ]
  },
  {
   "cell_type": "markdown",
   "metadata": {},
   "source": [
    "# 1. execute block of statement if condition satisfies"
   ]
  },
  {
   "cell_type": "code",
   "execution_count": 11,
   "metadata": {},
   "outputs": [
    {
     "name": "stdout",
     "output_type": "stream",
     "text": [
      "enter first value 10\n",
      "enter second value 5\n",
      "a is greater \n",
      "yahoooo\n",
      "condition has been satisfied\n"
     ]
    }
   ],
   "source": [
    "a = int(input(\"enter first value \"))\n",
    "b = int(input(\"enter second value \"))\n",
    "if a>b:\n",
    "    print(\"a is greater \")\n",
    "    print(\"yahoooo\")\n",
    "    print(\"condition has been satisfied\")"
   ]
  },
  {
   "cell_type": "code",
   "execution_count": 12,
   "metadata": {},
   "outputs": [
    {
     "name": "stdout",
     "output_type": "stream",
     "text": [
      "enter first value 10\n",
      "enter second value 15\n"
     ]
    }
   ],
   "source": [
    "a = int(input(\"enter first value \"))\n",
    "b = int(input(\"enter second value \"))\n",
    "if a>b:\n",
    "    print(\"a is greater \")\n",
    "    print(\"yahoooo\")\n",
    "    print(\"condition has been satisfied\")"
   ]
  },
  {
   "cell_type": "markdown",
   "metadata": {},
   "source": [
    "# 2. execute block of statements based on compound condition"
   ]
  },
  {
   "cell_type": "raw",
   "metadata": {},
   "source": [
    "A compound condition is nothing but a group of conditions\n",
    "I will be using the logical operators to group/combine the multiple conditions"
   ]
  },
  {
   "cell_type": "code",
   "execution_count": 13,
   "metadata": {},
   "outputs": [
    {
     "name": "stdout",
     "output_type": "stream",
     "text": [
      "enter first value 10\n",
      "enter second value 5\n",
      "enter third value 7\n"
     ]
    }
   ],
   "source": [
    "a =int(input(\"enter first value \"))\n",
    "b = int(input(\"enter second value \"))\n",
    "c = int(input(\"enter third value \"))"
   ]
  },
  {
   "cell_type": "code",
   "execution_count": 14,
   "metadata": {},
   "outputs": [
    {
     "data": {
      "text/plain": [
       "True"
      ]
     },
     "execution_count": 14,
     "metadata": {},
     "output_type": "execute_result"
    }
   ],
   "source": [
    "a>b and a>c"
   ]
  },
  {
   "cell_type": "code",
   "execution_count": 15,
   "metadata": {},
   "outputs": [
    {
     "name": "stdout",
     "output_type": "stream",
     "text": [
      "enter first value 10\n",
      "enter second value 15\n",
      "enter third value 7\n"
     ]
    }
   ],
   "source": [
    "a =int(input(\"enter first value \"))\n",
    "b = int(input(\"enter second value \"))\n",
    "c = int(input(\"enter third value \"))"
   ]
  },
  {
   "cell_type": "code",
   "execution_count": 16,
   "metadata": {},
   "outputs": [
    {
     "data": {
      "text/plain": [
       "False"
      ]
     },
     "execution_count": 16,
     "metadata": {},
     "output_type": "execute_result"
    }
   ],
   "source": [
    "a>b and a>c"
   ]
  },
  {
   "cell_type": "code",
   "execution_count": 17,
   "metadata": {},
   "outputs": [
    {
     "data": {
      "text/plain": [
       "False"
      ]
     },
     "execution_count": 17,
     "metadata": {},
     "output_type": "execute_result"
    }
   ],
   "source": [
    "a==7 or b==7"
   ]
  },
  {
   "cell_type": "code",
   "execution_count": 18,
   "metadata": {},
   "outputs": [
    {
     "data": {
      "text/plain": [
       "True"
      ]
     },
     "execution_count": 18,
     "metadata": {},
     "output_type": "execute_result"
    }
   ],
   "source": [
    "a == 7 or c == 7"
   ]
  },
  {
   "cell_type": "code",
   "execution_count": 19,
   "metadata": {},
   "outputs": [
    {
     "data": {
      "text/plain": [
       "True"
      ]
     },
     "execution_count": 19,
     "metadata": {},
     "output_type": "execute_result"
    }
   ],
   "source": [
    "5+3>9-2"
   ]
  },
  {
   "cell_type": "raw",
   "metadata": {},
   "source": [
    "arthematic operators has high priority than relational operators"
   ]
  },
  {
   "cell_type": "code",
   "execution_count": 21,
   "metadata": {},
   "outputs": [
    {
     "data": {
      "text/plain": [
       "False"
      ]
     },
     "execution_count": 21,
     "metadata": {},
     "output_type": "execute_result"
    }
   ],
   "source": [
    "5>3 and 9<2"
   ]
  },
  {
   "cell_type": "raw",
   "metadata": {},
   "source": [
    "relational operators has high priority than logical operators"
   ]
  },
  {
   "cell_type": "code",
   "execution_count": 22,
   "metadata": {},
   "outputs": [
    {
     "data": {
      "text/plain": [
       "2"
      ]
     },
     "execution_count": 22,
     "metadata": {},
     "output_type": "execute_result"
    }
   ],
   "source": [
    "5+3-2*3"
   ]
  },
  {
   "cell_type": "code",
   "execution_count": 23,
   "metadata": {},
   "outputs": [
    {
     "data": {
      "text/plain": [
       "8"
      ]
     },
     "execution_count": 23,
     "metadata": {},
     "output_type": "execute_result"
    }
   ],
   "source": [
    "5+(3-2)*3 # 3-2 == 1--> 1*3 == 3---> 5+3 ----> 8"
   ]
  },
  {
   "cell_type": "code",
   "execution_count": 24,
   "metadata": {},
   "outputs": [],
   "source": [
    "#BODMAS ---> brackets of division multiplication addition subraction"
   ]
  },
  {
   "cell_type": "markdown",
   "metadata": {},
   "source": [
    "# 3. Execute block of statements if condition satisfies otherwise execute alternative statements"
   ]
  },
  {
   "cell_type": "markdown",
   "metadata": {},
   "source": [
    "for alternatives cases we have to else keyword"
   ]
  },
  {
   "cell_type": "code",
   "execution_count": 2,
   "metadata": {},
   "outputs": [
    {
     "name": "stdout",
     "output_type": "stream",
     "text": [
      "enter number one 10\n",
      "enter number two 5\n",
      "a is greater\n",
      "condition has been successful\n",
      "done\n"
     ]
    }
   ],
   "source": [
    "a = int(input(\"enter number one \"))\n",
    "b = int(input(\"enter number two \"))\n",
    "if a>b:\n",
    "    print(\"a is greater\")\n",
    "    print(\"condition has been successful\")\n",
    "else:\n",
    "    print(\"b is greater \")\n",
    "    print(\"condition has been failed \")\n",
    "print(\"done\")"
   ]
  },
  {
   "cell_type": "code",
   "execution_count": 3,
   "metadata": {},
   "outputs": [
    {
     "name": "stdout",
     "output_type": "stream",
     "text": [
      "enter number one 20\n",
      "enter number two 50\n",
      "b is greater \n",
      "condition has been failed \n",
      "done\n"
     ]
    }
   ],
   "source": [
    "a = int(input(\"enter number one \"))\n",
    "b = int(input(\"enter number two \"))\n",
    "if a>b:\n",
    "    print(\"a is greater\")\n",
    "    print(\"condition has been successful\")\n",
    "else:\n",
    "    print(\"b is greater \")\n",
    "    print(\"condition has been failed \")\n",
    "print(\"done\")"
   ]
  },
  {
   "cell_type": "markdown",
   "metadata": {},
   "source": [
    "only one block of statements is executed. If condition satisfies, it executes if block. if condition fails it executes else block."
   ]
  },
  {
   "cell_type": "markdown",
   "metadata": {},
   "source": [
    "# question"
   ]
  },
  {
   "cell_type": "raw",
   "metadata": {},
   "source": [
    "I want to check whether tickets are available to my home town ot not?\n",
    "If ticket available print I am travelling to my home town\n",
    "if tickets not available print I am making a tour to kerala"
   ]
  },
  {
   "cell_type": "code",
   "execution_count": 4,
   "metadata": {},
   "outputs": [
    {
     "name": "stdout",
     "output_type": "stream",
     "text": [
      "enter 10 for ticker availability 0 for not availability 10\n",
      "I am travelling to my home town\n"
     ]
    }
   ],
   "source": [
    "tickets_available = int(input(\"enter 10 for ticker availability 0 for not availability \"))\n",
    "if tickets_available:\n",
    "    print(\"I am travelling to my home town\")\n",
    "else:\n",
    "    print(\"I am making a tour to kerala\")\n"
   ]
  },
  {
   "cell_type": "code",
   "execution_count": 5,
   "metadata": {},
   "outputs": [
    {
     "name": "stdout",
     "output_type": "stream",
     "text": [
      "enter 10 for ticker availability 0 for not availability 0\n",
      "I am making a tour to kerala\n"
     ]
    }
   ],
   "source": [
    "tickets_available = int(input(\"enter 10 for ticker availability 0 for not availability \"))\n",
    "if tickets_available:\n",
    "    print(\"I am travelling to my home town\")\n",
    "else:\n",
    "    print(\"I am making a tour to kerala\")"
   ]
  },
  {
   "cell_type": "code",
   "execution_count": 6,
   "metadata": {},
   "outputs": [
    {
     "name": "stdout",
     "output_type": "stream",
     "text": [
      "enter 10 for ticker availability 0 for not availability 5\n",
      "I am travelling to my home town\n"
     ]
    }
   ],
   "source": [
    "tickets_available = int(input(\"enter 10 for ticker availability 0 for not availability \"))\n",
    "if tickets_available:\n",
    "    print(\"I am travelling to my home town\")\n",
    "else:\n",
    "    print(\"I am making a tour to kerala\")"
   ]
  },
  {
   "cell_type": "code",
   "execution_count": 7,
   "metadata": {},
   "outputs": [
    {
     "name": "stdout",
     "output_type": "stream",
     "text": [
      "enter 10 for ticker availability 0 for not availability 5\n",
      "I am making a tour to kerala\n"
     ]
    }
   ],
   "source": [
    "tickets_available = int(input(\"enter 10 for ticker availability 0 for not availability \"))\n",
    "if tickets_available==10:\n",
    "    print(\"I am travelling to my home town\")\n",
    "else:\n",
    "    print(\"I am making a tour to kerala\")"
   ]
  },
  {
   "cell_type": "code",
   "execution_count": 8,
   "metadata": {},
   "outputs": [
    {
     "name": "stdout",
     "output_type": "stream",
     "text": [
      "enter 0 for not availability of tickets and any number for availability of tickets 0\n",
      "I am making a tour to kerala\n"
     ]
    }
   ],
   "source": [
    "tickets_available = int(input(\"enter 0 for not availability of tickets and any number for availability of tickets \"))\n",
    "if tickets_available:\n",
    "    print(\"I am travelling to my home town\")\n",
    "else:\n",
    "    print(\"I am making a tour to kerala\")"
   ]
  },
  {
   "cell_type": "code",
   "execution_count": 9,
   "metadata": {},
   "outputs": [
    {
     "name": "stdout",
     "output_type": "stream",
     "text": [
      "enter 0 for not availability of tickets and any number for availability of tickets 100\n",
      "I am travelling to my home town\n"
     ]
    }
   ],
   "source": [
    "tickets_available = int(input(\"enter 0 for not availability of tickets and any number for availability of tickets \"))\n",
    "if tickets_available:\n",
    "    print(\"I am travelling to my home town\")\n",
    "else:\n",
    "    print(\"I am making a tour to kerala\")"
   ]
  },
  {
   "cell_type": "code",
   "execution_count": null,
   "metadata": {},
   "outputs": [],
   "source": [
    "a = int(input(\"enter number one \"))\n",
    "b = int(input(\"enter number two \"))\n",
    "c = int(input(\"enter number three \"))\n",
    "if a>b"
   ]
  }
 ],
 "metadata": {
  "kernelspec": {
   "display_name": "Python 3",
   "language": "python",
   "name": "python3"
  },
  "language_info": {
   "codemirror_mode": {
    "name": "ipython",
    "version": 3
   },
   "file_extension": ".py",
   "mimetype": "text/x-python",
   "name": "python",
   "nbconvert_exporter": "python",
   "pygments_lexer": "ipython3",
   "version": "3.7.4"
  }
 },
 "nbformat": 4,
 "nbformat_minor": 2
}
